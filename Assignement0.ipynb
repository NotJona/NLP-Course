{
 "cells": [
  {
   "cell_type": "markdown",
   "metadata": {},
   "source": [
    "1.0.1 1\n",
    "Explain with examples the similiarities and differences between:\n",
    "• Int and String\n",
    "• Int and Float\n",
    "• List and Tuples and Set"
   ]
  },
  {
   "cell_type": "markdown",
   "metadata": {},
   "source": [
    "• Int and String: they are both immutable and the operations \"+\" and \"*\" work on them - though in different ways: ints actually get added/multiplied, but strings get concatinated. Also \"-\" and \"/\" dont work on strings "
   ]
  },
  {
   "cell_type": "code",
   "execution_count": 12,
   "metadata": {},
   "outputs": [
    {
     "name": "stdout",
     "output_type": "stream",
     "text": [
      "7\n",
      "35\n",
      "hello world\n",
      "hellohellohellohellohello\n",
      "46\n",
      "666\n"
     ]
    }
   ],
   "source": [
    "int1 = 2\n",
    "int2 = 5\n",
    "print(int1+int2)\n",
    "print(int2*7) \n",
    "\n",
    "str1 = \"hello\"\n",
    "str2 = \"world\"\n",
    "print(str1 + \" \" +str2)\n",
    "print(str1*5) \n",
    "\n",
    "str3 = \"4\"\n",
    "str4 = \"6\"\n",
    "print(str3 + str4)\n",
    "print(str4*3)"
   ]
  },
  {
   "cell_type": "markdown",
   "metadata": {},
   "source": [
    "• Int and Float: Both are types of numbers. All operations \"+, -, *, /\" work on them (though int might become a float). one can also combine them, but python will convert int to float and the result will always be a float. Any int can be converted into a float without loss of informatiin, but not the other way around."
   ]
  },
  {
   "cell_type": "code",
   "execution_count": 19,
   "metadata": {},
   "outputs": [
    {
     "name": "stdout",
     "output_type": "stream",
     "text": [
      "10.0\n",
      "<class 'float'>\n",
      "True\n",
      "False\n",
      "6\n",
      "<class 'float'>\n"
     ]
    }
   ],
   "source": [
    "int3 = 4\n",
    "int4 = 7\n",
    "float1 = 2.5\n",
    "float2 = 6.4\n",
    "\n",
    "print(int3*float1)\n",
    "print(type(int3*float1))\n",
    "\n",
    "print(int3 == float(int3))\n",
    "print(float2 == int(float2))\n",
    "print(int(float2))\n",
    "print(type(int4/int3))\n",
    "\n"
   ]
  },
  {
   "cell_type": "markdown",
   "metadata": {},
   "source": [
    "• List and Tuples and Set: all can hold a variety of different types. But lists and sets are mutable, tuples arent. But lists and tuples have an order, sets dont. And there are no dubbles in sets."
   ]
  },
  {
   "cell_type": "code",
   "execution_count": 32,
   "metadata": {},
   "outputs": [
    {
     "name": "stdout",
     "output_type": "stream",
     "text": [
      "[2, 4.5, 'hello', 2]\n",
      "(2, 4.5, 'hello', 2)\n",
      "{2, 4.5, 'hello'}\n",
      "{2, 4.5, 'hello'}\n",
      "[2, 4.5, 'hello', 2, 5]\n",
      "[2, 4.5]\n",
      "(2, 4.5)\n"
     ]
    }
   ],
   "source": [
    "list1 = [2, 4.5, \"hello\", 2]\n",
    "tuple1 = (2, 4.5, \"hello\", 2)\n",
    "set1 = {2, 4.5, \"hello\", 2}\n",
    "\n",
    "print(list1)\n",
    "print(tuple1)\n",
    "print(set1)\n",
    "\n",
    "print(set(list1))\n",
    "\n",
    "list1.append(5)\n",
    "print(list1)\n",
    "#print(tuple1.append(5)) this doesnt work\n",
    "#print(set1.append(5))  this doesnt work\n",
    "\n",
    "print(list1[:2])\n",
    "print(tuple1[:2])\n",
    "#print(set1[:2])  this doesnt work"
   ]
  },
  {
   "cell_type": "markdown",
   "metadata": {},
   "source": [
    "Create a script that prints the numbers from 1 to 100, following these rules:\n",
    "1. if number is even, print “Fizz” instead of it.\n",
    "2. if number is a multiple of 10 (e.g. 10, 20, 30, …), print “Bizz” instead of it\n",
    "So, your output should start with: 1, Fizz, 3, Fizz, 5, Fizz, 7, Fizz, 9, Bizz, 11, Fizz, 13, Fizz, …"
   ]
  },
  {
   "cell_type": "code",
   "execution_count": 37,
   "metadata": {},
   "outputs": [
    {
     "name": "stdout",
     "output_type": "stream",
     "text": [
      "1\n",
      "Fizz\n",
      "3\n",
      "Fizz\n",
      "5\n",
      "Fizz\n",
      "7\n",
      "Fizz\n",
      "9\n",
      "Bizz\n",
      "11\n",
      "Fizz\n",
      "13\n",
      "Fizz\n",
      "15\n",
      "Fizz\n",
      "17\n",
      "Fizz\n",
      "19\n",
      "Bizz\n",
      "21\n",
      "Fizz\n",
      "23\n",
      "Fizz\n",
      "25\n",
      "Fizz\n",
      "27\n",
      "Fizz\n",
      "29\n",
      "Bizz\n",
      "31\n",
      "Fizz\n",
      "33\n",
      "Fizz\n",
      "35\n",
      "Fizz\n",
      "37\n",
      "Fizz\n",
      "39\n",
      "Bizz\n",
      "41\n",
      "Fizz\n",
      "43\n",
      "Fizz\n",
      "45\n",
      "Fizz\n",
      "47\n",
      "Fizz\n",
      "49\n",
      "Bizz\n",
      "51\n",
      "Fizz\n",
      "53\n",
      "Fizz\n",
      "55\n",
      "Fizz\n",
      "57\n",
      "Fizz\n",
      "59\n",
      "Bizz\n",
      "61\n",
      "Fizz\n",
      "63\n",
      "Fizz\n",
      "65\n",
      "Fizz\n",
      "67\n",
      "Fizz\n",
      "69\n",
      "Bizz\n",
      "71\n",
      "Fizz\n",
      "73\n",
      "Fizz\n",
      "75\n",
      "Fizz\n",
      "77\n",
      "Fizz\n",
      "79\n",
      "Bizz\n",
      "81\n",
      "Fizz\n",
      "83\n",
      "Fizz\n",
      "85\n",
      "Fizz\n",
      "87\n",
      "Fizz\n",
      "89\n",
      "Bizz\n",
      "91\n",
      "Fizz\n",
      "93\n",
      "Fizz\n",
      "95\n",
      "Fizz\n",
      "97\n",
      "Fizz\n",
      "99\n",
      "Bizz\n"
     ]
    }
   ],
   "source": [
    "for x in range(1, 101):\n",
    "    if x%10==0:\n",
    "        print(\"Bizz\")\n",
    "    elif x%2==0:\n",
    "        print(\"Fizz\")\n",
    "    else:\n",
    "        print(x)"
   ]
  },
  {
   "cell_type": "markdown",
   "metadata": {},
   "source": [
    "Given the list:\n",
    "[1]: list1 = [1, 2, 3, '4', 5, 6.3, 7.4,\"123\", [1,2,3], 93, \"98\"]\n",
    "Print each element of a list. Follow these rules:\n",
    "1. If this element is numeric or a string, just print its representational value;\n",
    "2. If the element is a container but not a string (tuple, list, dict, set; Hint: you can check the\n",
    "type of the variable with type() function), print each element of the sequence."
   ]
  },
  {
   "cell_type": "code",
   "execution_count": 34,
   "metadata": {},
   "outputs": [
    {
     "name": "stdout",
     "output_type": "stream",
     "text": [
      "1\n",
      "2\n",
      "3\n",
      "4\n",
      "5\n",
      "6.3\n",
      "7.4\n",
      "123\n",
      "1\n",
      "2\n",
      "3\n",
      "93\n",
      "98\n"
     ]
    }
   ],
   "source": [
    "list1 = [1, 2, 3, '4', 5, 6.3, 7.4,\"123\", [1,2,3], 93, \"98\"]\n",
    "\n",
    "for element in list1:\n",
    "    if type(element) == str or type(element) == int or type(element) == float:\n",
    "        print(element)\n",
    "    else:\n",
    "        for x in element:\n",
    "            print(x)"
   ]
  },
  {
   "cell_type": "markdown",
   "metadata": {},
   "source": [
    "What films have you watched in 2023? Build your own film collection! The following\n",
    "details may be interesting:\n",
    "• film title\n",
    "• film director\n",
    "• release year\n",
    "• imdb rating\n",
    "• your personal rating\n",
    "• …\n",
    "How will you store these data?\n"
   ]
  },
  {
   "cell_type": "markdown",
   "metadata": {},
   "source": [
    "Nice idea, but I don't really watch movies. Hence I will make up my own. \n",
    "\n",
    "How will you store these data? In a pandas data frame"
   ]
  },
  {
   "cell_type": "code",
   "execution_count": 6,
   "metadata": {},
   "outputs": [
    {
     "data": {
      "text/html": [
       "<div>\n",
       "<style scoped>\n",
       "    .dataframe tbody tr th:only-of-type {\n",
       "        vertical-align: middle;\n",
       "    }\n",
       "\n",
       "    .dataframe tbody tr th {\n",
       "        vertical-align: top;\n",
       "    }\n",
       "\n",
       "    .dataframe thead th {\n",
       "        text-align: right;\n",
       "    }\n",
       "</style>\n",
       "<table border=\"1\" class=\"dataframe\">\n",
       "  <thead>\n",
       "    <tr style=\"text-align: right;\">\n",
       "      <th></th>\n",
       "      <th>film title</th>\n",
       "      <th>film director</th>\n",
       "      <th>release year</th>\n",
       "      <th>imdb rating</th>\n",
       "      <th>personal rating</th>\n",
       "    </tr>\n",
       "  </thead>\n",
       "  <tbody>\n",
       "    <tr>\n",
       "      <th>0</th>\n",
       "      <td>A cat named Oida</td>\n",
       "      <td>Jona Hassenbach</td>\n",
       "      <td>2020</td>\n",
       "      <td>4.2</td>\n",
       "      <td>9.0</td>\n",
       "    </tr>\n",
       "    <tr>\n",
       "      <th>1</th>\n",
       "      <td>Return of Oida</td>\n",
       "      <td>Jona Hassenbach</td>\n",
       "      <td>2021</td>\n",
       "      <td>3.6</td>\n",
       "      <td>9.0</td>\n",
       "    </tr>\n",
       "    <tr>\n",
       "      <th>2</th>\n",
       "      <td>Oida rises again</td>\n",
       "      <td>Jona Hassenbach</td>\n",
       "      <td>2022</td>\n",
       "      <td>2.3</td>\n",
       "      <td>9.6</td>\n",
       "    </tr>\n",
       "    <tr>\n",
       "      <th>3</th>\n",
       "      <td>You will never Oida alone</td>\n",
       "      <td>Jona Hassenbach</td>\n",
       "      <td>2023</td>\n",
       "      <td>3.8</td>\n",
       "      <td>10.0</td>\n",
       "    </tr>\n",
       "  </tbody>\n",
       "</table>\n",
       "</div>"
      ],
      "text/plain": [
       "                  film title    film director  release year  imdb rating  \\\n",
       "0           A cat named Oida  Jona Hassenbach          2020          4.2   \n",
       "1             Return of Oida  Jona Hassenbach          2021          3.6   \n",
       "2           Oida rises again  Jona Hassenbach          2022          2.3   \n",
       "3  You will never Oida alone  Jona Hassenbach          2023          3.8   \n",
       "\n",
       "   personal rating  \n",
       "0              9.0  \n",
       "1              9.0  \n",
       "2              9.6  \n",
       "3             10.0  "
      ]
     },
     "execution_count": 6,
     "metadata": {},
     "output_type": "execute_result"
    }
   ],
   "source": [
    "import pandas as pd\n",
    "df = pd.DataFrame([['A cat named Oida', 'Jona Hassenbach', 2020, 4.2, 9], \n",
    "                        ['Return of Oida', 'Jona Hassenbach', 2021, 3.6, 9], \n",
    "                        ['Oida rises again', 'Jona Hassenbach', 2022, 2.3, 9.6], \n",
    "                        ['You will never Oida alone', 'Jona Hassenbach', 2023, 3.8, 10]])\n",
    "df.columns = ['film title', 'film director', 'release year', 'imdb rating', 'personal rating']\n",
    "df"
   ]
  }
 ],
 "metadata": {
  "kernelspec": {
   "display_name": ".NLPFriend",
   "language": "python",
   "name": "python3"
  },
  "language_info": {
   "codemirror_mode": {
    "name": "ipython",
    "version": 3
   },
   "file_extension": ".py",
   "mimetype": "text/x-python",
   "name": "python",
   "nbconvert_exporter": "python",
   "pygments_lexer": "ipython3",
   "version": "3.11.8"
  }
 },
 "nbformat": 4,
 "nbformat_minor": 2
}
